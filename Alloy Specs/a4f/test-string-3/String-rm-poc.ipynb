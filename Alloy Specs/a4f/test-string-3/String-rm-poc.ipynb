{
 "cells": [
  {
   "cell_type": "code",
   "execution_count": 2,
   "id": "f7bdb7e0",
   "metadata": {},
   "outputs": [],
   "source": [
    "import os\n",
    "\n",
    "dir_path = \"C:\\\\Users\\\\mhasan6\\\\Downloads\\\\Alloy-Gen-AI-main\\\\Alloy-Gen-AI-main\\\\Alloy-Specs\\\\a4f\\\\test-string\"\n",
    "string_to_remove = \"-- \"\n",
    "\n",
    "for filename in os.listdir(dir_path):\n",
    "    if filename.endswith(\".txt\"):  # specify file type here\n",
    "        file_path = os.path.join(dir_path, filename)\n",
    "        with open(file_path, \"r\") as file:\n",
    "            lines = file.readlines()\n",
    "        with open(file_path, \"w\") as file:\n",
    "            for line in lines:\n",
    "                if line.startswith(string_to_remove):\n",
    "                    line = line[len(string_to_remove):]  # remove string from beginning\n",
    "                file.write(line)"
   ]
  },
  {
   "cell_type": "code",
   "execution_count": 1,
   "id": "7d5aabf3",
   "metadata": {},
   "outputs": [
    {
     "data": {
      "text/plain": [
       "'C:\\\\Users\\\\mhasan6\\\\Downloads\\\\Alloy-Gen-AI-main\\\\Alloy-Gen-AI-main\\\\Alloy-Specs\\\\a4f\\\\test-string'"
      ]
     },
     "execution_count": 1,
     "metadata": {},
     "output_type": "execute_result"
    }
   ],
   "source": [
    "pwd\n"
   ]
  },
  {
   "cell_type": "code",
   "execution_count": null,
   "id": "ee0c6785",
   "metadata": {},
   "outputs": [],
   "source": []
  }
 ],
 "metadata": {
  "kernelspec": {
   "display_name": "Python 3 (ipykernel)",
   "language": "python",
   "name": "python3"
  },
  "language_info": {
   "codemirror_mode": {
    "name": "ipython",
    "version": 3
   },
   "file_extension": ".py",
   "mimetype": "text/x-python",
   "name": "python",
   "nbconvert_exporter": "python",
   "pygments_lexer": "ipython3",
   "version": "3.9.13"
  }
 },
 "nbformat": 4,
 "nbformat_minor": 5
}
